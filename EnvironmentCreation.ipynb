{
 "cells": [
  {
   "cell_type": "markdown",
   "id": "04415ec6-945b-4a8a-9a20-0cb74faf9cbf",
   "metadata": {},
   "source": [
    "# Azure Machine Learning - Environment Creation\n",
    "\n",
    "This sample notebook showcases how to create an environment that can be used as both a Jupyter Kernel from an AML Compute Instance as well as in pipeline/job executions.\n",
    "\n",
    "Here we show how to create an configure these environments from a provided pip `requirements.txt` file but you can alternatively curate your environment from existing conda YAML files or by manually specifying packages. \n",
    "\n",
    "If your team aims to create a consistent conda environment across all user Compute Instances, we recommend placing a 'master' requirements.txt/conda_env.yml file in a location accessible to all users in a workspace."
   ]
  },
  {
   "cell_type": "markdown",
   "id": "bd375006-ae3f-4347-b8cd-4f3c6e2cd37c",
   "metadata": {},
   "source": [
    "### Create and curate a new conda environment\n",
    "Here we create a new conda environment and install dependencies listed in a pip requirements file.\n",
    "\n",
    "<i>Note:</i> Rename your environments to something more meaningful if desired."
   ]
  },
  {
   "cell_type": "markdown",
   "id": "0822c7b9-b272-4a06-91fe-01e1bbc1032a",
   "metadata": {},
   "source": [
    "```\n",
    "## Run the following commands from an AML Compute Instance terminal:\n",
    "\n",
    "cd Users/<YOUR-USERNAME>\n",
    "\n",
    "conda create -n sample-env python=3.8 -y\n",
    "\n",
    "conda activate sample-env\n",
    "\n",
    "pip install -r requirements.txt\n",
    "```"
   ]
  },
  {
   "cell_type": "markdown",
   "id": "e028a0ff-b622-46f1-a0e9-a15da6055016",
   "metadata": {},
   "source": [
    "### Export conda env to YAML file"
   ]
  },
  {
   "cell_type": "markdown",
   "id": "fdc0e634-8c9e-4e98-8546-56cd3c966894",
   "metadata": {},
   "source": [
    "```\n",
    "## Run the following command\n",
    "\n",
    "conda env export --no-builds --name sample-env --file env.yml\n",
    "```"
   ]
  },
  {
   "cell_type": "markdown",
   "id": "e09609e0-ae83-4d36-aebb-b48d4f0b32ee",
   "metadata": {},
   "source": [
    "### Create Jupyter kernel from new conda environment"
   ]
  },
  {
   "cell_type": "markdown",
   "id": "af578100-fbd0-4305-bab0-d8c3473423b1",
   "metadata": {},
   "source": [
    "```\n",
    "## Run the following command\n",
    "\n",
    "conda install notebook ipykernel -y\n",
    "\n",
    "ipython kernel install --user --name sample-env --display-name \"Python 3.8 (sample-env)\"\n",
    "```"
   ]
  },
  {
   "cell_type": "markdown",
   "id": "6791460e-18da-43ad-acde-eae5ca1abc78",
   "metadata": {},
   "source": [
    "### Refresh the browser to access your newly created kernel\n",
    "This new kernel contains all of the packages listed in your requirements.txt file. You can use this for model development or authoring reusable Azure Machine Learning pipelines.\n",
    "\n",
    "![Jupyter Kernel](./img/env_selection.png)"
   ]
  },
  {
   "cell_type": "markdown",
   "id": "6100335e-a6cf-43b6-a06f-e575fd12a95a",
   "metadata": {},
   "source": [
    "### Import packages "
   ]
  },
  {
   "cell_type": "code",
   "execution_count": null,
   "id": "f9200344-4861-465d-987d-7a053da96348",
   "metadata": {},
   "outputs": [],
   "source": [
    "from azureml.core import Workspace, Environment, RunConfiguration\n",
    "import pandas as pd\n",
    "import numpy as np\n",
    "import statsmodels"
   ]
  },
  {
   "cell_type": "markdown",
   "id": "350bd704-8523-48ed-8088-31c697b8a936",
   "metadata": {},
   "source": [
    "### Connect to AML workspace"
   ]
  },
  {
   "cell_type": "code",
   "execution_count": null,
   "id": "e3786418-4146-4c44-9915-e2ebb5fc3c63",
   "metadata": {},
   "outputs": [],
   "source": [
    "ws = Workspace.from_config()"
   ]
  },
  {
   "cell_type": "markdown",
   "id": "26039a50-e27e-4839-8e32-037738039b3e",
   "metadata": {},
   "source": [
    "### Create and register a new environment from exported conda YAML file"
   ]
  },
  {
   "cell_type": "code",
   "execution_count": null,
   "id": "2a9e1f42-01bd-462b-8846-02e33ab26de6",
   "metadata": {},
   "outputs": [],
   "source": [
    "aml_env = Environment.from_conda_specification(name='sample_env', file_path='env.yml')\n",
    "aml_env.register(ws)"
   ]
  },
  {
   "cell_type": "markdown",
   "id": "b8280460-04c8-42a5-9544-ad0d231f37fa",
   "metadata": {},
   "source": [
    "### Your newly created custom AML environment should be visible in the AML portal\n",
    "\n",
    "![AML Custom Environment](./img/aml_env.png)"
   ]
  },
  {
   "cell_type": "markdown",
   "id": "1dc9bef8-26db-4374-9650-630aa5d2fd4b",
   "metadata": {},
   "source": [
    "### Access custom AML environment and use for pipeline execution in future jobs\n",
    "Newly created custom Azure Machine Learning environment is now accessible by all users in your workspace. You can retrieve a reference to this environment using the syntax below and add it to pipeline/job `RunConfiguration`s."
   ]
  },
  {
   "cell_type": "code",
   "execution_count": null,
   "id": "18c9292f-9796-438b-a678-f1bc5e7ce973",
   "metadata": {},
   "outputs": [],
   "source": [
    "pipeline_env = Environment.get(ws, name='sample_env', version='1')\n",
    "\n",
    "run_config = RunConfiguration()\n",
    "run_config.environment = pipeline_env"
   ]
  }
 ],
 "metadata": {
  "kernelspec": {
   "display_name": "Python 3.8 (sample-env)",
   "language": "python",
   "name": "sample-env"
  },
  "language_info": {
   "codemirror_mode": {
    "name": "ipython",
    "version": 3
   },
   "file_extension": ".py",
   "mimetype": "text/x-python",
   "name": "python",
   "nbconvert_exporter": "python",
   "pygments_lexer": "ipython3",
   "version": "3.8.16"
  }
 },
 "nbformat": 4,
 "nbformat_minor": 5
}
